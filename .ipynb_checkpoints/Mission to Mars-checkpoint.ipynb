{
 "cells": [
  {
   "cell_type": "code",
   "execution_count": 1,
   "metadata": {
    "scrolled": false
   },
   "outputs": [
    {
     "ename": "ModuleNotFoundError",
     "evalue": "No module named 'bs4'",
     "output_type": "error",
     "traceback": [
      "\u001b[0;31m---------------------------------------------------------------------------\u001b[0m",
      "\u001b[0;31mModuleNotFoundError\u001b[0m                       Traceback (most recent call last)",
      "\u001b[0;32m<ipython-input-1-e9cb7226c8af>\u001b[0m in \u001b[0;36m<module>\u001b[0;34m\u001b[0m\n\u001b[1;32m      1\u001b[0m \u001b[0;31m# BeautifulSoup, Pandas, and Requests/Splinter\u001b[0m\u001b[0;34m\u001b[0m\u001b[0;34m\u001b[0m\u001b[0;34m\u001b[0m\u001b[0m\n\u001b[0;32m----> 2\u001b[0;31m \u001b[0;32mfrom\u001b[0m \u001b[0mbs4\u001b[0m \u001b[0;32mimport\u001b[0m \u001b[0mBeautifulSoup\u001b[0m\u001b[0;34m\u001b[0m\u001b[0;34m\u001b[0m\u001b[0m\n\u001b[0m\u001b[1;32m      3\u001b[0m \u001b[0;32mfrom\u001b[0m \u001b[0msplinter\u001b[0m \u001b[0;32mimport\u001b[0m \u001b[0mBrowser\u001b[0m\u001b[0;34m\u001b[0m\u001b[0;34m\u001b[0m\u001b[0m\n\u001b[1;32m      4\u001b[0m \u001b[0;32mimport\u001b[0m \u001b[0mpandas\u001b[0m \u001b[0;32mas\u001b[0m \u001b[0mpd\u001b[0m\u001b[0;34m\u001b[0m\u001b[0;34m\u001b[0m\u001b[0m\n\u001b[1;32m      5\u001b[0m \u001b[0;32mimport\u001b[0m \u001b[0mrequests\u001b[0m\u001b[0;34m\u001b[0m\u001b[0;34m\u001b[0m\u001b[0m\n",
      "\u001b[0;31mModuleNotFoundError\u001b[0m: No module named 'bs4'"
     ]
    }
   ],
   "source": [
    "# BeautifulSoup, Pandas, and Requests/Splinter\n",
    "from bs4 import BeautifulSoup\n",
    "from splinter import Browser\n",
    "import pandas as pd\n",
    "import requests"
   ]
  },
  {
   "cell_type": "code",
   "execution_count": null,
   "metadata": {},
   "outputs": [],
   "source": [
    "# Check for chrome web driver path\n",
    "!which chromedriver"
   ]
  },
  {
   "cell_type": "code",
   "execution_count": null,
   "metadata": {},
   "outputs": [],
   "source": [
    "# Create Browser instance and pass 'chrome' string\n",
    "def browser():\n",
    "    executable_path = {'executable_path': '/usr/local/bin/chromedriver'}\n",
    "    return Browser('chrome', **executable_path, headless=False)\n",
    "browser = browser()"
   ]
  },
  {
   "cell_type": "code",
   "execution_count": null,
   "metadata": {},
   "outputs": [],
   "source": [
    "# Assign news url to variable\n",
    "news_url= \"https://mars.nasa.gov/news/?page=0&per_page=40&order=publish_date+desc%2Ccreated_at+desc&search=&category=19%2C165%2C184%2C204&blank_scope=Latest\"\n",
    "browser.visit(news_url)\n",
    "news_html = browser.html\n",
    "news_soup = BeautifulSoup(news_html, 'html.parser')"
   ]
  },
  {
   "cell_type": "code",
   "execution_count": null,
   "metadata": {},
   "outputs": [],
   "source": [
    "# Pretty print \n",
    "# print(news_soup.prettify())"
   ]
  },
  {
   "cell_type": "code",
   "execution_count": null,
   "metadata": {},
   "outputs": [],
   "source": [
    "# NASA Mars News Scraping"
   ]
  },
  {
   "cell_type": "code",
   "execution_count": null,
   "metadata": {},
   "outputs": [],
   "source": [
    "news_title = news_soup.body.find('div', class_='content_title').get_text()\n",
    "print(news_title)"
   ]
  },
  {
   "cell_type": "code",
   "execution_count": null,
   "metadata": {},
   "outputs": [],
   "source": [
    "news_p = news_soup.body.find('div', class_='article_teaser_body').get_text()\n",
    "print(news_p)\n"
   ]
  },
  {
   "cell_type": "code",
   "execution_count": null,
   "metadata": {},
   "outputs": [],
   "source": [
    "# Set image browser\n",
    "image_url= \"https://www.jpl.nasa.gov/spaceimages/?search=&category=Mars\"\n",
    "browser.visit(image_url)\n",
    "image_html= browser.html\n",
    "image_soup = BeautifulSoup(image_html, 'lxml')\n",
    "# print(image_soup.prettify())\n"
   ]
  },
  {
   "cell_type": "code",
   "execution_count": null,
   "metadata": {},
   "outputs": [],
   "source": [
    "# Set base url \n",
    "base_url = 'https://www.jpl.nasa.gov'\n",
    "\n",
    "# Get featured image partial url\n",
    "image_url = image_soup.find(\"a\", {\"class\":\"button fancybox\"})['data-fancybox-href']\n",
    "\n",
    "featured_image_url = base_url + image_url\n",
    "print(featured_image_url)\n"
   ]
  },
  {
   "cell_type": "code",
   "execution_count": null,
   "metadata": {},
   "outputs": [],
   "source": [
    "# print(base_url)"
   ]
  },
  {
   "cell_type": "code",
   "execution_count": null,
   "metadata": {},
   "outputs": [],
   "source": [
    "# Mars Weather"
   ]
  },
  {
   "cell_type": "code",
   "execution_count": null,
   "metadata": {},
   "outputs": [],
   "source": [
    "# Set weather browser \n",
    "twitter_url = 'https://twitter.com/marswxreport?lang=en'\n",
    "browser.visit(twitter_url)\n",
    "weather_html = browser.html\n",
    "weather_soup = BeautifulSoup(weather_html, 'lxml')\n",
    "# print(weather_soup.prettify())                         "
   ]
  },
  {
   "cell_type": "code",
   "execution_count": null,
   "metadata": {},
   "outputs": [],
   "source": [
    "# Get latest tweet about weather from twitter link \n",
    "mars_weather = weather_soup.find('p', class_= \"TweetTextSize\").text.split(\".\")[0]\n",
    "print(mars_weather)"
   ]
  },
  {
   "cell_type": "code",
   "execution_count": null,
   "metadata": {},
   "outputs": [],
   "source": [
    "# Mars Facts"
   ]
  },
  {
   "cell_type": "code",
   "execution_count": null,
   "metadata": {},
   "outputs": [],
   "source": [
    "# Scrape second HTML table with pandas\n",
    "mars_facts_url = 'https://space-facts.com/mars/'\n",
    "mars_facts_table = pd.read_html(mars_facts_url)\n",
    "mars_facts_table = mars_facts_table[1]"
   ]
  },
  {
   "cell_type": "code",
   "execution_count": null,
   "metadata": {},
   "outputs": [],
   "source": [
    "# print(mars_facts_table)"
   ]
  },
  {
   "cell_type": "code",
   "execution_count": null,
   "metadata": {},
   "outputs": [],
   "source": [
    "# Read table to pandas DataFrame\n",
    "mars_facts_df = mars_facts_table\n",
    "mars_facts_df.columns = ['Description', 'Value']\n",
    "mars_facts_df"
   ]
  },
  {
   "cell_type": "code",
   "execution_count": null,
   "metadata": {},
   "outputs": [],
   "source": [
    "# Convert to HTML table string\n",
    "mars_facts_html = mars_facts_df.to_html()\n",
    "print(mars_facts_html)"
   ]
  },
  {
   "cell_type": "code",
   "execution_count": null,
   "metadata": {},
   "outputs": [],
   "source": [
    "# Mars Hemisphere Browser\n",
    "hemisphere_url = 'https://astrogeology.usgs.gov/search/results?q=hemisphere+enhanced&k1=target&v1=Mars' \n",
    "browser.visit(hemisphere_url)\n",
    "hemisphere_html = browser.html\n",
    "hemisphere_soup = BeautifulSoup(hemisphere_html, 'lxml')"
   ]
  },
  {
   "cell_type": "code",
   "execution_count": null,
   "metadata": {},
   "outputs": [],
   "source": [
    "# Create list to hold list of links      \n",
    "links = []  \n",
    "\n",
    "# Create list to hold img urls\n",
    "hemisphere_img_urls = []    \n",
    "\n",
    "# Store base url in a variable for concatenation\n",
    "base_url = \"https://astrogeology.usgs.gov\" \n",
    "\n",
    "result = hemisphere_soup.find('div', class_='result-list')\n",
    "#print(result)\n",
    "\n",
    "items = result.findAll('div', class_ = 'item')\n",
    "#print(items)\n",
    "\n",
    "#loop through divs\n",
    "for item in items:\n",
    "    # Create dictionary to append list of images\n",
    "    hemisphere = {} \n",
    "    \n",
    "    content = item.find('div', class_='description')\n",
    "    \n",
    "    title = content.find('h3').text\n",
    "    hemisphere['title'] = title\n",
    "    \n",
    "    href = item.find('a', {\"class\":\"itemLink product-item\"})['href']\n",
    "    links.append(base_url + href)\n",
    "    \n",
    "#loop through links\n",
    "    for link in links:\n",
    "        response = requests.get(link)\n",
    "        hemisphere_soup = BeautifulSoup(response.text, 'lxml')\n",
    "\n",
    "        img_src = hemisphere_soup.find(\"img\", {\"class\":\"wide-image\"})['src']\n",
    "        img_url = base_url + img_src\n",
    "        hemisphere['img_url'] = img_url\n",
    "        \n",
    "    hemisphere_img_urls.append(hemisphere)\n",
    "    \n",
    "hemisphere_img_urls\n",
    "\n"
   ]
  }
 ],
 "metadata": {
  "kernelspec": {
   "display_name": "Python 3",
   "language": "python",
   "name": "python3"
  },
  "language_info": {
   "codemirror_mode": {
    "name": "ipython",
    "version": 3
   },
   "file_extension": ".py",
   "mimetype": "text/x-python",
   "name": "python",
   "nbconvert_exporter": "python",
   "pygments_lexer": "ipython3",
   "version": "3.7.4"
  }
 },
 "nbformat": 4,
 "nbformat_minor": 2
}
